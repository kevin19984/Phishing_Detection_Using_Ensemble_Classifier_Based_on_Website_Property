{
 "cells": [
  {
   "cell_type": "code",
   "execution_count": 1,
   "metadata": {},
   "outputs": [],
   "source": [
    "import pandas as pd\n",
    "import numpy as np\n",
    "import warnings\n",
    "warnings.filterwarnings(action='ignore')"
   ]
  },
  {
   "cell_type": "markdown",
   "metadata": {},
   "source": [
    "## Dataset Analysis"
   ]
  },
  {
   "cell_type": "code",
   "execution_count": 2,
   "metadata": {},
   "outputs": [],
   "source": [
    "df=pd.read_csv(r\"./phishing.csv\")"
   ]
  },
  {
   "cell_type": "code",
   "execution_count": 3,
   "metadata": {
    "scrolled": true
   },
   "outputs": [
    {
     "data": {
      "text/plain": [
       "Index(['Index', 'UsingIP', 'LongURL', 'ShortURL', 'Symbol@', 'Redirecting//',\n",
       "       'PrefixSuffix-', 'SubDomains', 'HTTPS', 'DomainRegLen', 'Favicon',\n",
       "       'NonStdPort', 'HTTPSDomainURL', 'RequestURL', 'AnchorURL',\n",
       "       'LinksInScriptTags', 'ServerFormHandler', 'InfoEmail', 'AbnormalURL',\n",
       "       'WebsiteForwarding', 'StatusBarCust', 'DisableRightClick',\n",
       "       'UsingPopupWindow', 'IframeRedirection', 'AgeofDomain', 'DNSRecording',\n",
       "       'WebsiteTraffic', 'PageRank', 'GoogleIndex', 'LinksPointingToPage',\n",
       "       'StatsReport', 'class'],\n",
       "      dtype='object')"
      ]
     },
     "execution_count": 3,
     "metadata": {},
     "output_type": "execute_result"
    }
   ],
   "source": [
    "df.columns"
   ]
  },
  {
   "cell_type": "code",
   "execution_count": 4,
   "metadata": {},
   "outputs": [],
   "source": [
    "df = df.drop(columns='Index')"
   ]
  },
  {
   "cell_type": "code",
   "execution_count": 5,
   "metadata": {},
   "outputs": [
    {
     "data": {
      "text/html": [
       "<div>\n",
       "<style scoped>\n",
       "    .dataframe tbody tr th:only-of-type {\n",
       "        vertical-align: middle;\n",
       "    }\n",
       "\n",
       "    .dataframe tbody tr th {\n",
       "        vertical-align: top;\n",
       "    }\n",
       "\n",
       "    .dataframe thead th {\n",
       "        text-align: right;\n",
       "    }\n",
       "</style>\n",
       "<table border=\"1\" class=\"dataframe\">\n",
       "  <thead>\n",
       "    <tr style=\"text-align: right;\">\n",
       "      <th></th>\n",
       "      <th>UsingIP</th>\n",
       "      <th>LongURL</th>\n",
       "      <th>ShortURL</th>\n",
       "      <th>Symbol@</th>\n",
       "      <th>Redirecting//</th>\n",
       "      <th>PrefixSuffix-</th>\n",
       "      <th>SubDomains</th>\n",
       "      <th>HTTPS</th>\n",
       "      <th>DomainRegLen</th>\n",
       "      <th>Favicon</th>\n",
       "      <th>...</th>\n",
       "      <th>UsingPopupWindow</th>\n",
       "      <th>IframeRedirection</th>\n",
       "      <th>AgeofDomain</th>\n",
       "      <th>DNSRecording</th>\n",
       "      <th>WebsiteTraffic</th>\n",
       "      <th>PageRank</th>\n",
       "      <th>GoogleIndex</th>\n",
       "      <th>LinksPointingToPage</th>\n",
       "      <th>StatsReport</th>\n",
       "      <th>class</th>\n",
       "    </tr>\n",
       "  </thead>\n",
       "  <tbody>\n",
       "    <tr>\n",
       "      <th>0</th>\n",
       "      <td>1</td>\n",
       "      <td>1</td>\n",
       "      <td>1</td>\n",
       "      <td>1</td>\n",
       "      <td>1</td>\n",
       "      <td>-1</td>\n",
       "      <td>0</td>\n",
       "      <td>1</td>\n",
       "      <td>-1</td>\n",
       "      <td>1</td>\n",
       "      <td>...</td>\n",
       "      <td>1</td>\n",
       "      <td>1</td>\n",
       "      <td>-1</td>\n",
       "      <td>-1</td>\n",
       "      <td>0</td>\n",
       "      <td>-1</td>\n",
       "      <td>1</td>\n",
       "      <td>1</td>\n",
       "      <td>1</td>\n",
       "      <td>-1</td>\n",
       "    </tr>\n",
       "    <tr>\n",
       "      <th>1</th>\n",
       "      <td>1</td>\n",
       "      <td>0</td>\n",
       "      <td>1</td>\n",
       "      <td>1</td>\n",
       "      <td>1</td>\n",
       "      <td>-1</td>\n",
       "      <td>-1</td>\n",
       "      <td>-1</td>\n",
       "      <td>-1</td>\n",
       "      <td>1</td>\n",
       "      <td>...</td>\n",
       "      <td>1</td>\n",
       "      <td>1</td>\n",
       "      <td>1</td>\n",
       "      <td>-1</td>\n",
       "      <td>1</td>\n",
       "      <td>-1</td>\n",
       "      <td>1</td>\n",
       "      <td>0</td>\n",
       "      <td>-1</td>\n",
       "      <td>-1</td>\n",
       "    </tr>\n",
       "    <tr>\n",
       "      <th>2</th>\n",
       "      <td>1</td>\n",
       "      <td>0</td>\n",
       "      <td>1</td>\n",
       "      <td>1</td>\n",
       "      <td>1</td>\n",
       "      <td>-1</td>\n",
       "      <td>-1</td>\n",
       "      <td>-1</td>\n",
       "      <td>1</td>\n",
       "      <td>1</td>\n",
       "      <td>...</td>\n",
       "      <td>1</td>\n",
       "      <td>1</td>\n",
       "      <td>-1</td>\n",
       "      <td>-1</td>\n",
       "      <td>1</td>\n",
       "      <td>-1</td>\n",
       "      <td>1</td>\n",
       "      <td>-1</td>\n",
       "      <td>1</td>\n",
       "      <td>-1</td>\n",
       "    </tr>\n",
       "    <tr>\n",
       "      <th>3</th>\n",
       "      <td>1</td>\n",
       "      <td>0</td>\n",
       "      <td>-1</td>\n",
       "      <td>1</td>\n",
       "      <td>1</td>\n",
       "      <td>-1</td>\n",
       "      <td>1</td>\n",
       "      <td>1</td>\n",
       "      <td>-1</td>\n",
       "      <td>1</td>\n",
       "      <td>...</td>\n",
       "      <td>-1</td>\n",
       "      <td>1</td>\n",
       "      <td>-1</td>\n",
       "      <td>-1</td>\n",
       "      <td>0</td>\n",
       "      <td>-1</td>\n",
       "      <td>1</td>\n",
       "      <td>1</td>\n",
       "      <td>1</td>\n",
       "      <td>1</td>\n",
       "    </tr>\n",
       "    <tr>\n",
       "      <th>4</th>\n",
       "      <td>-1</td>\n",
       "      <td>0</td>\n",
       "      <td>-1</td>\n",
       "      <td>1</td>\n",
       "      <td>-1</td>\n",
       "      <td>-1</td>\n",
       "      <td>1</td>\n",
       "      <td>1</td>\n",
       "      <td>-1</td>\n",
       "      <td>1</td>\n",
       "      <td>...</td>\n",
       "      <td>1</td>\n",
       "      <td>1</td>\n",
       "      <td>1</td>\n",
       "      <td>1</td>\n",
       "      <td>1</td>\n",
       "      <td>-1</td>\n",
       "      <td>1</td>\n",
       "      <td>-1</td>\n",
       "      <td>-1</td>\n",
       "      <td>1</td>\n",
       "    </tr>\n",
       "  </tbody>\n",
       "</table>\n",
       "<p>5 rows × 31 columns</p>\n",
       "</div>"
      ],
      "text/plain": [
       "   UsingIP  LongURL  ShortURL  Symbol@  Redirecting//  PrefixSuffix-  \\\n",
       "0        1        1         1        1              1             -1   \n",
       "1        1        0         1        1              1             -1   \n",
       "2        1        0         1        1              1             -1   \n",
       "3        1        0        -1        1              1             -1   \n",
       "4       -1        0        -1        1             -1             -1   \n",
       "\n",
       "   SubDomains  HTTPS  DomainRegLen  Favicon  ...  UsingPopupWindow  \\\n",
       "0           0      1            -1        1  ...                 1   \n",
       "1          -1     -1            -1        1  ...                 1   \n",
       "2          -1     -1             1        1  ...                 1   \n",
       "3           1      1            -1        1  ...                -1   \n",
       "4           1      1            -1        1  ...                 1   \n",
       "\n",
       "   IframeRedirection  AgeofDomain  DNSRecording  WebsiteTraffic  PageRank  \\\n",
       "0                  1           -1            -1               0        -1   \n",
       "1                  1            1            -1               1        -1   \n",
       "2                  1           -1            -1               1        -1   \n",
       "3                  1           -1            -1               0        -1   \n",
       "4                  1            1             1               1        -1   \n",
       "\n",
       "   GoogleIndex  LinksPointingToPage  StatsReport  class  \n",
       "0            1                    1            1     -1  \n",
       "1            1                    0           -1     -1  \n",
       "2            1                   -1            1     -1  \n",
       "3            1                    1            1      1  \n",
       "4            1                   -1           -1      1  \n",
       "\n",
       "[5 rows x 31 columns]"
      ]
     },
     "execution_count": 5,
     "metadata": {},
     "output_type": "execute_result"
    }
   ],
   "source": [
    "df.head()"
   ]
  },
  {
   "cell_type": "code",
   "execution_count": 6,
   "metadata": {},
   "outputs": [
    {
     "data": {
      "text/plain": [
       "(11054, 31)"
      ]
     },
     "execution_count": 6,
     "metadata": {},
     "output_type": "execute_result"
    }
   ],
   "source": [
    "df.shape"
   ]
  },
  {
   "cell_type": "code",
   "execution_count": 7,
   "metadata": {},
   "outputs": [
    {
     "name": "stdout",
     "output_type": "stream",
     "text": [
      "6157\n",
      "4897\n"
     ]
    }
   ],
   "source": [
    "print(len(df.loc[df['class'] == 1])) # 정상 웹사이트\n",
    "print(len(df.loc[df['class'] == -1])) # 피싱 웹사이트"
   ]
  },
  {
   "cell_type": "code",
   "execution_count": 8,
   "metadata": {},
   "outputs": [
    {
     "data": {
      "text/html": [
       "<div>\n",
       "<style scoped>\n",
       "    .dataframe tbody tr th:only-of-type {\n",
       "        vertical-align: middle;\n",
       "    }\n",
       "\n",
       "    .dataframe tbody tr th {\n",
       "        vertical-align: top;\n",
       "    }\n",
       "\n",
       "    .dataframe thead th {\n",
       "        text-align: right;\n",
       "    }\n",
       "</style>\n",
       "<table border=\"1\" class=\"dataframe\">\n",
       "  <thead>\n",
       "    <tr style=\"text-align: right;\">\n",
       "      <th></th>\n",
       "      <th>UsingIP</th>\n",
       "      <th>LongURL</th>\n",
       "      <th>ShortURL</th>\n",
       "      <th>Symbol@</th>\n",
       "      <th>Redirecting//</th>\n",
       "      <th>PrefixSuffix-</th>\n",
       "      <th>SubDomains</th>\n",
       "      <th>HTTPS</th>\n",
       "      <th>DomainRegLen</th>\n",
       "      <th>Favicon</th>\n",
       "      <th>...</th>\n",
       "      <th>DisableRightClick</th>\n",
       "      <th>UsingPopupWindow</th>\n",
       "      <th>IframeRedirection</th>\n",
       "      <th>AgeofDomain</th>\n",
       "      <th>DNSRecording</th>\n",
       "      <th>WebsiteTraffic</th>\n",
       "      <th>PageRank</th>\n",
       "      <th>GoogleIndex</th>\n",
       "      <th>LinksPointingToPage</th>\n",
       "      <th>StatsReport</th>\n",
       "    </tr>\n",
       "  </thead>\n",
       "  <tbody>\n",
       "    <tr>\n",
       "      <th>0</th>\n",
       "      <td>1</td>\n",
       "      <td>1</td>\n",
       "      <td>1</td>\n",
       "      <td>1</td>\n",
       "      <td>1</td>\n",
       "      <td>-1</td>\n",
       "      <td>0</td>\n",
       "      <td>1</td>\n",
       "      <td>-1</td>\n",
       "      <td>1</td>\n",
       "      <td>...</td>\n",
       "      <td>1</td>\n",
       "      <td>1</td>\n",
       "      <td>1</td>\n",
       "      <td>-1</td>\n",
       "      <td>-1</td>\n",
       "      <td>0</td>\n",
       "      <td>-1</td>\n",
       "      <td>1</td>\n",
       "      <td>1</td>\n",
       "      <td>1</td>\n",
       "    </tr>\n",
       "    <tr>\n",
       "      <th>1</th>\n",
       "      <td>1</td>\n",
       "      <td>0</td>\n",
       "      <td>1</td>\n",
       "      <td>1</td>\n",
       "      <td>1</td>\n",
       "      <td>-1</td>\n",
       "      <td>-1</td>\n",
       "      <td>-1</td>\n",
       "      <td>-1</td>\n",
       "      <td>1</td>\n",
       "      <td>...</td>\n",
       "      <td>1</td>\n",
       "      <td>1</td>\n",
       "      <td>1</td>\n",
       "      <td>1</td>\n",
       "      <td>-1</td>\n",
       "      <td>1</td>\n",
       "      <td>-1</td>\n",
       "      <td>1</td>\n",
       "      <td>0</td>\n",
       "      <td>-1</td>\n",
       "    </tr>\n",
       "    <tr>\n",
       "      <th>2</th>\n",
       "      <td>1</td>\n",
       "      <td>0</td>\n",
       "      <td>1</td>\n",
       "      <td>1</td>\n",
       "      <td>1</td>\n",
       "      <td>-1</td>\n",
       "      <td>-1</td>\n",
       "      <td>-1</td>\n",
       "      <td>1</td>\n",
       "      <td>1</td>\n",
       "      <td>...</td>\n",
       "      <td>1</td>\n",
       "      <td>1</td>\n",
       "      <td>1</td>\n",
       "      <td>-1</td>\n",
       "      <td>-1</td>\n",
       "      <td>1</td>\n",
       "      <td>-1</td>\n",
       "      <td>1</td>\n",
       "      <td>-1</td>\n",
       "      <td>1</td>\n",
       "    </tr>\n",
       "    <tr>\n",
       "      <th>3</th>\n",
       "      <td>1</td>\n",
       "      <td>0</td>\n",
       "      <td>-1</td>\n",
       "      <td>1</td>\n",
       "      <td>1</td>\n",
       "      <td>-1</td>\n",
       "      <td>1</td>\n",
       "      <td>1</td>\n",
       "      <td>-1</td>\n",
       "      <td>1</td>\n",
       "      <td>...</td>\n",
       "      <td>1</td>\n",
       "      <td>-1</td>\n",
       "      <td>1</td>\n",
       "      <td>-1</td>\n",
       "      <td>-1</td>\n",
       "      <td>0</td>\n",
       "      <td>-1</td>\n",
       "      <td>1</td>\n",
       "      <td>1</td>\n",
       "      <td>1</td>\n",
       "    </tr>\n",
       "    <tr>\n",
       "      <th>4</th>\n",
       "      <td>-1</td>\n",
       "      <td>0</td>\n",
       "      <td>-1</td>\n",
       "      <td>1</td>\n",
       "      <td>-1</td>\n",
       "      <td>-1</td>\n",
       "      <td>1</td>\n",
       "      <td>1</td>\n",
       "      <td>-1</td>\n",
       "      <td>1</td>\n",
       "      <td>...</td>\n",
       "      <td>1</td>\n",
       "      <td>1</td>\n",
       "      <td>1</td>\n",
       "      <td>1</td>\n",
       "      <td>1</td>\n",
       "      <td>1</td>\n",
       "      <td>-1</td>\n",
       "      <td>1</td>\n",
       "      <td>-1</td>\n",
       "      <td>-1</td>\n",
       "    </tr>\n",
       "  </tbody>\n",
       "</table>\n",
       "<p>5 rows × 30 columns</p>\n",
       "</div>"
      ],
      "text/plain": [
       "   UsingIP  LongURL  ShortURL  Symbol@  Redirecting//  PrefixSuffix-  \\\n",
       "0        1        1         1        1              1             -1   \n",
       "1        1        0         1        1              1             -1   \n",
       "2        1        0         1        1              1             -1   \n",
       "3        1        0        -1        1              1             -1   \n",
       "4       -1        0        -1        1             -1             -1   \n",
       "\n",
       "   SubDomains  HTTPS  DomainRegLen  Favicon  ...  DisableRightClick  \\\n",
       "0           0      1            -1        1  ...                  1   \n",
       "1          -1     -1            -1        1  ...                  1   \n",
       "2          -1     -1             1        1  ...                  1   \n",
       "3           1      1            -1        1  ...                  1   \n",
       "4           1      1            -1        1  ...                  1   \n",
       "\n",
       "   UsingPopupWindow  IframeRedirection  AgeofDomain  DNSRecording  \\\n",
       "0                 1                  1           -1            -1   \n",
       "1                 1                  1            1            -1   \n",
       "2                 1                  1           -1            -1   \n",
       "3                -1                  1           -1            -1   \n",
       "4                 1                  1            1             1   \n",
       "\n",
       "   WebsiteTraffic  PageRank  GoogleIndex  LinksPointingToPage  StatsReport  \n",
       "0               0        -1            1                    1            1  \n",
       "1               1        -1            1                    0           -1  \n",
       "2               1        -1            1                   -1            1  \n",
       "3               0        -1            1                    1            1  \n",
       "4               1        -1            1                   -1           -1  \n",
       "\n",
       "[5 rows x 30 columns]"
      ]
     },
     "execution_count": 8,
     "metadata": {},
     "output_type": "execute_result"
    }
   ],
   "source": [
    "X = df.drop(columns='class')\n",
    "X.head()"
   ]
  },
  {
   "cell_type": "code",
   "execution_count": 9,
   "metadata": {},
   "outputs": [
    {
     "data": {
      "text/html": [
       "<div>\n",
       "<style scoped>\n",
       "    .dataframe tbody tr th:only-of-type {\n",
       "        vertical-align: middle;\n",
       "    }\n",
       "\n",
       "    .dataframe tbody tr th {\n",
       "        vertical-align: top;\n",
       "    }\n",
       "\n",
       "    .dataframe thead th {\n",
       "        text-align: right;\n",
       "    }\n",
       "</style>\n",
       "<table border=\"1\" class=\"dataframe\">\n",
       "  <thead>\n",
       "    <tr style=\"text-align: right;\">\n",
       "      <th></th>\n",
       "      <th>class</th>\n",
       "    </tr>\n",
       "  </thead>\n",
       "  <tbody>\n",
       "    <tr>\n",
       "      <th>0</th>\n",
       "      <td>-1</td>\n",
       "    </tr>\n",
       "    <tr>\n",
       "      <th>1</th>\n",
       "      <td>-1</td>\n",
       "    </tr>\n",
       "    <tr>\n",
       "      <th>2</th>\n",
       "      <td>-1</td>\n",
       "    </tr>\n",
       "    <tr>\n",
       "      <th>3</th>\n",
       "      <td>1</td>\n",
       "    </tr>\n",
       "    <tr>\n",
       "      <th>4</th>\n",
       "      <td>1</td>\n",
       "    </tr>\n",
       "  </tbody>\n",
       "</table>\n",
       "</div>"
      ],
      "text/plain": [
       "   class\n",
       "0     -1\n",
       "1     -1\n",
       "2     -1\n",
       "3      1\n",
       "4      1"
      ]
     },
     "execution_count": 9,
     "metadata": {},
     "output_type": "execute_result"
    }
   ],
   "source": [
    "Y = df['class']\n",
    "Y = pd.DataFrame(Y)\n",
    "Y.head()"
   ]
  },
  {
   "cell_type": "markdown",
   "metadata": {},
   "source": [
    "## Feature Engineering"
   ]
  },
  {
   "cell_type": "markdown",
   "metadata": {},
   "source": [
    "### Recursive Feature Elimination with Cross Validation"
   ]
  },
  {
   "cell_type": "code",
   "execution_count": 10,
   "metadata": {},
   "outputs": [],
   "source": [
    "from sklearn.feature_selection import RFECV\n",
    "from sklearn.model_selection import StratifiedKFold\n",
    "from sklearn.tree import DecisionTreeClassifier\n",
    "from matplotlib import pyplot as plt\n",
    "import seaborn as sns\n",
    "%matplotlib inline"
   ]
  },
  {
   "cell_type": "code",
   "execution_count": 11,
   "metadata": {},
   "outputs": [
    {
     "name": "stdout",
     "output_type": "stream",
     "text": [
      "Optimal number of features: 18\n"
     ]
    }
   ],
   "source": [
    "min_features_to_select = 1  # Minimum number of features to consider\n",
    "cv = StratifiedKFold(5)\n",
    "\n",
    "rfecv = RFECV(\n",
    "    estimator = DecisionTreeClassifier(random_state=1234),\n",
    "    step = 1,\n",
    "    cv = cv,\n",
    "    scoring = \"f1_macro\",\n",
    "    min_features_to_select = min_features_to_select,\n",
    "    n_jobs = 2,\n",
    ")\n",
    "rfecv.fit(X, Y)\n",
    "\n",
    "print(f\"Optimal number of features: {rfecv.n_features_}\")"
   ]
  },
  {
   "cell_type": "code",
   "execution_count": 12,
   "metadata": {},
   "outputs": [
    {
     "data": {
      "image/png": "[encoded data removed]",
      "text/plain": [
       "<Figure size 432x288 with 1 Axes>"
      ]
     },
     "metadata": {
      "needs_background": "light"
     },
     "output_type": "display_data"
    }
   ],
   "source": [
    "cv_results = pd.DataFrame(rfecv.cv_results_)\n",
    "plt.figure()\n",
    "plt.xlabel(\"Number of features selected\")\n",
    "plt.ylabel(\"Mean F1-score\")\n",
    "plt.errorbar(\n",
    "    x=cv_results[\"n_features\"],\n",
    "    y=cv_results[\"mean_test_score\"],\n",
    "    yerr=cv_results[\"std_test_score\"],\n",
    ")\n",
    "plt.title(\"Recursive Feature Elimination \\nwith Cross Validation\")\n",
    "plt.savefig('RFECV result.png')\n",
    "plt.show()"
   ]
  },
  {
   "cell_type": "code",
   "execution_count": 13,
   "metadata": {},
   "outputs": [
    {
     "name": "stdout",
     "output_type": "stream",
     "text": [
      "UsingIP              Selected 1   Rank: 1 \n",
      "LongURL              Selected 1   Rank: 1 \n",
      "ShortURL             Selected 0   Rank: 7 \n",
      "Symbol@              Selected 0   Rank: 5 \n",
      "Redirecting//        Selected 0   Rank: 13\n",
      "PrefixSuffix-        Selected 1   Rank: 1 \n",
      "SubDomains           Selected 1   Rank: 1 \n",
      "HTTPS                Selected 1   Rank: 1 \n",
      "DomainRegLen         Selected 1   Rank: 1 \n",
      "Favicon              Selected 0   Rank: 6 \n",
      "NonStdPort           Selected 0   Rank: 12\n",
      "HTTPSDomainURL       Selected 0   Rank: 10\n",
      "RequestURL           Selected 1   Rank: 1 \n",
      "AnchorURL            Selected 1   Rank: 1 \n",
      "LinksInScriptTags    Selected 1   Rank: 1 \n",
      "ServerFormHandler    Selected 1   Rank: 1 \n",
      "InfoEmail            Selected 1   Rank: 1 \n",
      "AbnormalURL          Selected 0   Rank: 8 \n",
      "WebsiteForwarding    Selected 1   Rank: 1 \n",
      "StatusBarCust        Selected 0   Rank: 3 \n",
      "DisableRightClick    Selected 0   Rank: 9 \n",
      "UsingPopupWindow     Selected 0   Rank: 2 \n",
      "IframeRedirection    Selected 0   Rank: 11\n",
      "AgeofDomain          Selected 1   Rank: 1 \n",
      "DNSRecording         Selected 1   Rank: 1 \n",
      "WebsiteTraffic       Selected 1   Rank: 1 \n",
      "PageRank             Selected 1   Rank: 1 \n",
      "GoogleIndex          Selected 1   Rank: 1 \n",
      "LinksPointingToPage  Selected 1   Rank: 1 \n",
      "StatsReport          Selected 0   Rank: 4 \n"
     ]
    }
   ],
   "source": [
    "for i in range(X.shape[1]):\n",
    "    print('{:<20} Selected {:<3} Rank: {:<2}'.format(X.columns[i], rfecv.support_[i], str(rfecv.ranking_[i])))"
   ]
  },
  {
   "cell_type": "markdown",
   "metadata": {},
   "source": [
    "### Variance of Feature"
   ]
  },
  {
   "cell_type": "code",
   "execution_count": 14,
   "metadata": {},
   "outputs": [],
   "source": [
    "variances = []\n",
    "for column in df:\n",
    "    variances += [[column, (df[column].var())]]\n",
    "variances.sort(key = lambda x:x[1])"
   ]
  },
  {
   "cell_type": "code",
   "execution_count": 15,
   "metadata": {},
   "outputs": [
    {
     "data": {
      "text/plain": [
       "[['WebsiteForwarding', 0.10232639647278342],\n",
       " ['DisableRightClick', 0.16484313920731875],\n",
       " ['LinksPointingToPage', 0.3248267541830524],\n",
       " ['IframeRedirection', 0.3327063505768844],\n",
       " ['StatusBarCust', 0.4192764598147353],\n",
       " ['Redirecting//', 0.45002270505108116],\n",
       " ['ShortURL', 0.4543085831934734],\n",
       " ['PrefixSuffix-', 0.459908360348241],\n",
       " ['NonStdPort', 0.4697043773055857],\n",
       " ['GoogleIndex', 0.47941075592316507],\n",
       " ['StatsReport', 0.48201871434420257],\n",
       " ['AbnormalURL', 0.5023914006384614],\n",
       " ['Symbol@', 0.5092605195444905],\n",
       " ['AnchorURL', 0.5113910916023277],\n",
       " ['HTTPSDomainURL', 0.5441127442099146],\n",
       " ['ServerFormHandler', 0.5763355421042663],\n",
       " ['LinksInScriptTags', 0.583593890456363],\n",
       " ['LongURL', 0.5867139136234639],\n",
       " ['InfoEmail', 0.5958275840908255],\n",
       " ['Favicon', 0.6049786829847236],\n",
       " ['UsingPopupWindow', 0.6238549852019902],\n",
       " ['SubDomains', 0.6682939615695909],\n",
       " ['WebsiteTraffic', 0.6850544732157657],\n",
       " ['PageRank', 0.7661753620249948],\n",
       " ['HTTPS', 0.8314813205469035],\n",
       " ['DNSRecording', 0.8577683284665638],\n",
       " ['DomainRegLen', 0.8867061251060069],\n",
       " ['UsingIP', 0.9015398626002612],\n",
       " ['RequestURL', 0.96522305779002],\n",
       " ['class', 0.9870965151362172],\n",
       " ['AgeofDomain', 0.9963281182951008]]"
      ]
     },
     "execution_count": 15,
     "metadata": {},
     "output_type": "execute_result"
    }
   ],
   "source": [
    "variances"
   ]
  },
  {
   "cell_type": "markdown",
   "metadata": {},
   "source": [
    "### Feature Selection"
   ]
  },
  {
   "cell_type": "code",
   "execution_count": 16,
   "metadata": {},
   "outputs": [
    {
     "data": {
      "text/plain": [
       "Index(['UsingIP', 'LongURL', 'ShortURL', 'Symbol@', 'Redirecting//',\n",
       "       'PrefixSuffix-', 'SubDomains', 'HTTPS', 'DomainRegLen', 'Favicon',\n",
       "       'NonStdPort', 'HTTPSDomainURL', 'RequestURL', 'AnchorURL',\n",
       "       'LinksInScriptTags', 'ServerFormHandler', 'InfoEmail', 'AbnormalURL',\n",
       "       'WebsiteForwarding', 'StatusBarCust', 'DisableRightClick',\n",
       "       'UsingPopupWindow', 'IframeRedirection', 'AgeofDomain', 'DNSRecording',\n",
       "       'WebsiteTraffic', 'PageRank', 'GoogleIndex', 'LinksPointingToPage',\n",
       "       'StatsReport'],\n",
       "      dtype='object')"
      ]
     },
     "execution_count": 16,
     "metadata": {},
     "output_type": "execute_result"
    }
   ],
   "source": [
    "X.columns"
   ]
  },
  {
   "cell_type": "code",
   "execution_count": 17,
   "metadata": {},
   "outputs": [
    {
     "data": {
      "text/plain": [
       "array([ True,  True, False, False, False,  True,  True,  True,  True,\n",
       "       False, False, False,  True,  True,  True,  True,  True, False,\n",
       "        True, False, False, False, False,  True,  True,  True,  True,\n",
       "        True,  True, False])"
      ]
     },
     "execution_count": 17,
     "metadata": {},
     "output_type": "execute_result"
    }
   ],
   "source": [
    "rfecv.support_"
   ]
  },
  {
   "cell_type": "code",
   "execution_count": 18,
   "metadata": {
    "scrolled": true
   },
   "outputs": [
    {
     "data": {
      "text/plain": [
       "Index(['UsingIP', 'LongURL', 'PrefixSuffix-', 'SubDomains', 'HTTPS',\n",
       "       'DomainRegLen', 'RequestURL', 'AnchorURL', 'LinksInScriptTags',\n",
       "       'ServerFormHandler', 'InfoEmail', 'WebsiteForwarding', 'AgeofDomain',\n",
       "       'DNSRecording', 'WebsiteTraffic', 'PageRank', 'GoogleIndex',\n",
       "       'LinksPointingToPage'],\n",
       "      dtype='object')"
      ]
     },
     "execution_count": 18,
     "metadata": {},
     "output_type": "execute_result"
    }
   ],
   "source": [
    "X = X.loc[:, rfecv.support_]\n",
    "X.columns"
   ]
  },
  {
   "cell_type": "markdown",
   "metadata": {},
   "source": [
    "## Model Training  & Testing"
   ]
  },
  {
   "cell_type": "code",
   "execution_count": 19,
   "metadata": {},
   "outputs": [],
   "source": [
    "from sklearn.model_selection import train_test_split, cross_val_score\n",
    "from sklearn.metrics import accuracy_score, precision_score, recall_score, f1_score, confusion_matrix, classification_report"
   ]
  },
  {
   "cell_type": "code",
   "execution_count": 20,
   "metadata": {},
   "outputs": [],
   "source": [
    "modelNames = []\n",
    "accList = []\n",
    "precList = []\n",
    "recList = []\n",
    "f1List = []\n",
    "\n",
    "def storeResult(modelName, accuracy, precision, recall, f1_score):\n",
    "  modelNames.append(modelName)\n",
    "  accList.append(round(accuracy, 4))\n",
    "  precList.append(round(precision, 4))\n",
    "  recList.append(round(recall, 4))\n",
    "  f1List.append(round(f1_score, 4))"
   ]
  },
  {
   "cell_type": "code",
   "execution_count": 21,
   "metadata": {},
   "outputs": [
    {
     "name": "stdout",
     "output_type": "stream",
     "text": [
      "(8843, 18)\n",
      "(2211, 18)\n",
      "(8843, 1)\n",
      "(2211, 1)\n"
     ]
    }
   ],
   "source": [
    "train_X, test_X, train_Y, test_Y = train_test_split(X, Y, test_size=0.2, random_state=1234)\n",
    "train_Y = train_Y.replace({1:1, -1:0})\n",
    "test_Y = test_Y.replace({1:1, -1:0})\n",
    "print(train_X.shape)\n",
    "print(test_X.shape)\n",
    "print(train_Y.shape)\n",
    "print(test_Y.shape)"
   ]
  },
  {
   "cell_type": "markdown",
   "metadata": {},
   "source": [
    "### Logistic Regression"
   ]
  },
  {
   "cell_type": "code",
   "execution_count": 22,
   "metadata": {},
   "outputs": [],
   "source": [
    "from sklearn.linear_model import LogisticRegression"
   ]
  },
  {
   "cell_type": "code",
   "execution_count": 23,
   "metadata": {},
   "outputs": [],
   "source": [
    "logReg = LogisticRegression(random_state = 1234).fit(train_X, train_Y)\n",
    "logReg_predict= logReg.predict(test_X)\n",
    "storeResult('Logistic Regression', \n",
    "            accuracy_score(logReg_predict, test_Y), \n",
    "            precision_score(logReg_predict, test_Y), \n",
    "            recall_score(logReg_predict, test_Y), \n",
    "            f1_score(logReg_predict, test_Y))"
   ]
  },
  {
   "cell_type": "code",
   "execution_count": 24,
   "metadata": {},
   "outputs": [
    {
     "name": "stdout",
     "output_type": "stream",
     "text": [
      "              precision    recall  f1-score   support\n",
      "\n",
      "           0     0.9386    0.8975    0.9176       937\n",
      "           1     0.9270    0.9568    0.9417      1274\n",
      "\n",
      "    accuracy                         0.9317      2211\n",
      "   macro avg     0.9328    0.9272    0.9296      2211\n",
      "weighted avg     0.9319    0.9317    0.9315      2211\n",
      "\n"
     ]
    }
   ],
   "source": [
    "print(classification_report(test_Y, logReg_predict, digits = 4))"
   ]
  },
  {
   "cell_type": "markdown",
   "metadata": {},
   "source": [
    "### K-Nearest Neighbors Classifier"
   ]
  },
  {
   "cell_type": "code",
   "execution_count": 25,
   "metadata": {},
   "outputs": [],
   "source": [
    "from sklearn.neighbors import KNeighborsClassifier"
   ]
  },
  {
   "cell_type": "code",
   "execution_count": 26,
   "metadata": {},
   "outputs": [],
   "source": [
    "knn = KNeighborsClassifier(n_neighbors = 3).fit(train_X, train_Y)\n",
    "knn_predict = knn.predict(test_X)\n",
    "storeResult('K-Nearest Neighbors',\n",
    "            accuracy_score(knn_predict, test_Y), \n",
    "            precision_score(knn_predict, test_Y), \n",
    "            recall_score(knn_predict, test_Y), \n",
    "            f1_score(knn_predict, test_Y))"
   ]
  },
  {
   "cell_type": "code",
   "execution_count": 27,
   "metadata": {},
   "outputs": [
    {
     "name": "stdout",
     "output_type": "stream",
     "text": [
      "              precision    recall  f1-score   support\n",
      "\n",
      "           0     0.9464    0.9413    0.9438       937\n",
      "           1     0.9570    0.9608    0.9589      1274\n",
      "\n",
      "    accuracy                         0.9525      2211\n",
      "   macro avg     0.9517    0.9510    0.9513      2211\n",
      "weighted avg     0.9525    0.9525    0.9525      2211\n",
      "\n"
     ]
    }
   ],
   "source": [
    "print(classification_report(test_Y, knn_predict, digits = 4))"
   ]
  },
  {
   "cell_type": "markdown",
   "metadata": {},
   "source": [
    "### Decision Tree Classifier"
   ]
  },
  {
   "cell_type": "code",
   "execution_count": 28,
   "metadata": {},
   "outputs": [],
   "source": [
    "from sklearn.tree import DecisionTreeClassifier"
   ]
  },
  {
   "cell_type": "code",
   "execution_count": 29,
   "metadata": {},
   "outputs": [],
   "source": [
    "dTree = DecisionTreeClassifier(random_state = 1234).fit(train_X, train_Y)\n",
    "dTree_predict = dTree.predict(test_X)\n",
    "storeResult('Decision Tree', \n",
    "            accuracy_score(dTree_predict, test_Y), \n",
    "            precision_score(dTree_predict, test_Y), \n",
    "            recall_score(dTree_predict, test_Y), \n",
    "            f1_score(dTree_predict, test_Y))"
   ]
  },
  {
   "cell_type": "code",
   "execution_count": 30,
   "metadata": {},
   "outputs": [
    {
     "name": "stdout",
     "output_type": "stream",
     "text": [
      "              precision    recall  f1-score   support\n",
      "\n",
      "           0     0.9565    0.9616    0.9590       937\n",
      "           1     0.9716    0.9678    0.9697      1274\n",
      "\n",
      "    accuracy                         0.9652      2211\n",
      "   macro avg     0.9641    0.9647    0.9644      2211\n",
      "weighted avg     0.9652    0.9652    0.9652      2211\n",
      "\n"
     ]
    }
   ],
   "source": [
    "print(classification_report(test_Y, dTree_predict, digits = 4))"
   ]
  },
  {
   "cell_type": "markdown",
   "metadata": {},
   "source": [
    "### Random Forest Classifier"
   ]
  },
  {
   "cell_type": "code",
   "execution_count": 31,
   "metadata": {},
   "outputs": [],
   "source": [
    "from sklearn.ensemble import RandomForestClassifier"
   ]
  },
  {
   "cell_type": "code",
   "execution_count": 32,
   "metadata": {},
   "outputs": [],
   "source": [
    "rfc = RandomForestClassifier(random_state = 1234).fit(train_X, train_Y)\n",
    "rfc_predict = rfc.predict(test_X)\n",
    "storeResult('Random Forest', \n",
    "            accuracy_score(rfc_predict, test_Y), \n",
    "            precision_score(rfc_predict, test_Y), \n",
    "            recall_score(rfc_predict, test_Y), \n",
    "            f1_score(rfc_predict, test_Y))"
   ]
  },
  {
   "cell_type": "code",
   "execution_count": 33,
   "metadata": {},
   "outputs": [
    {
     "name": "stdout",
     "output_type": "stream",
     "text": [
      "              precision    recall  f1-score   support\n",
      "\n",
      "           0     0.9772    0.9616    0.9693       937\n",
      "           1     0.9721    0.9835    0.9778      1274\n",
      "\n",
      "    accuracy                         0.9742      2211\n",
      "   macro avg     0.9746    0.9725    0.9735      2211\n",
      "weighted avg     0.9743    0.9742    0.9742      2211\n",
      "\n"
     ]
    }
   ],
   "source": [
    "print(classification_report(test_Y, rfc_predict, digits = 4))"
   ]
  },
  {
   "cell_type": "markdown",
   "metadata": {},
   "source": [
    "### Support Vector Classifier"
   ]
  },
  {
   "cell_type": "code",
   "execution_count": 34,
   "metadata": {},
   "outputs": [],
   "source": [
    "from sklearn.svm import SVC"
   ]
  },
  {
   "cell_type": "code",
   "execution_count": 35,
   "metadata": {},
   "outputs": [],
   "source": [
    "svc = SVC(random_state = 1234, probability=True).fit(train_X, train_Y)\n",
    "svc_predict = svc.predict(test_X)\n",
    "storeResult('Support Vector', \n",
    "            accuracy_score(svc_predict, test_Y), \n",
    "            precision_score(svc_predict, test_Y), \n",
    "            recall_score(svc_predict, test_Y), \n",
    "            f1_score(svc_predict, test_Y))"
   ]
  },
  {
   "cell_type": "code",
   "execution_count": 36,
   "metadata": {},
   "outputs": [
    {
     "name": "stdout",
     "output_type": "stream",
     "text": [
      "              precision    recall  f1-score   support\n",
      "\n",
      "           0     0.9564    0.9370    0.9466       937\n",
      "           1     0.9544    0.9686    0.9614      1274\n",
      "\n",
      "    accuracy                         0.9552      2211\n",
      "   macro avg     0.9554    0.9528    0.9540      2211\n",
      "weighted avg     0.9552    0.9552    0.9552      2211\n",
      "\n"
     ]
    }
   ],
   "source": [
    "print(classification_report(test_Y, svc_predict, digits = 4))"
   ]
  },
  {
   "cell_type": "markdown",
   "metadata": {},
   "source": [
    "### AdaBoost Classifier"
   ]
  },
  {
   "cell_type": "code",
   "execution_count": 37,
   "metadata": {},
   "outputs": [],
   "source": [
    "from sklearn.ensemble import AdaBoostClassifier"
   ]
  },
  {
   "cell_type": "code",
   "execution_count": 38,
   "metadata": {},
   "outputs": [],
   "source": [
    "adc = AdaBoostClassifier(random_state = 1234, n_estimators = 5, learning_rate = 1).fit(train_X, train_Y)\n",
    "adc_predict = adc.predict(test_X)\n",
    "storeResult('Adaboost', \n",
    "            accuracy_score(adc_predict, test_Y), \n",
    "            precision_score(adc_predict, test_Y), \n",
    "            recall_score(adc_predict, test_Y), \n",
    "            f1_score(adc_predict, test_Y))"
   ]
  },
  {
   "cell_type": "code",
   "execution_count": 39,
   "metadata": {},
   "outputs": [
    {
     "name": "stdout",
     "output_type": "stream",
     "text": [
      "              precision    recall  f1-score   support\n",
      "\n",
      "           0     0.9141    0.9082    0.9111       937\n",
      "           1     0.9328    0.9372    0.9350      1274\n",
      "\n",
      "    accuracy                         0.9249      2211\n",
      "   macro avg     0.9234    0.9227    0.9231      2211\n",
      "weighted avg     0.9249    0.9249    0.9249      2211\n",
      "\n"
     ]
    }
   ],
   "source": [
    "print(classification_report(test_Y, adc_predict, digits = 4))"
   ]
  },
  {
   "cell_type": "markdown",
   "metadata": {},
   "source": [
    "### XGBoost Classifier"
   ]
  },
  {
   "cell_type": "code",
   "execution_count": 40,
   "metadata": {},
   "outputs": [],
   "source": [
    "from xgboost import XGBClassifier"
   ]
  },
  {
   "cell_type": "code",
   "execution_count": 41,
   "metadata": {},
   "outputs": [],
   "source": [
    "xgb = XGBClassifier(random_state = 1234).fit(train_X, train_Y)\n",
    "xgb_predict = xgb.predict(test_X)\n",
    "storeResult('XGBoost', \n",
    "            accuracy_score(xgb_predict, test_Y), \n",
    "            precision_score(xgb_predict, test_Y), \n",
    "            recall_score(xgb_predict, test_Y), \n",
    "            f1_score(xgb_predict, test_Y))"
   ]
  },
  {
   "cell_type": "code",
   "execution_count": 42,
   "metadata": {},
   "outputs": [
    {
     "name": "stdout",
     "output_type": "stream",
     "text": [
      "              precision    recall  f1-score   support\n",
      "\n",
      "           0     0.9729    0.9594    0.9661       937\n",
      "           1     0.9705    0.9804    0.9754      1274\n",
      "\n",
      "    accuracy                         0.9715      2211\n",
      "   macro avg     0.9717    0.9699    0.9708      2211\n",
      "weighted avg     0.9715    0.9715    0.9715      2211\n",
      "\n"
     ]
    }
   ],
   "source": [
    "print(classification_report(test_Y, xgb_predict, digits = 4))"
   ]
  },
  {
   "cell_type": "markdown",
   "metadata": {},
   "source": [
    "### Gradient Boosting Classifier"
   ]
  },
  {
   "cell_type": "code",
   "execution_count": 43,
   "metadata": {},
   "outputs": [],
   "source": [
    "from sklearn.ensemble import GradientBoostingClassifier"
   ]
  },
  {
   "cell_type": "code",
   "execution_count": 44,
   "metadata": {},
   "outputs": [],
   "source": [
    "gbc = GradientBoostingClassifier(random_state = 1234).fit(train_X, train_Y)\n",
    "gbc_predict = gbc.predict(test_X)\n",
    "storeResult('Gradient Boosting',\n",
    "            accuracy_score(gbc_predict, test_Y), \n",
    "            precision_score(gbc_predict, test_Y), \n",
    "            recall_score(gbc_predict, test_Y), \n",
    "            f1_score(gbc_predict, test_Y))"
   ]
  },
  {
   "cell_type": "code",
   "execution_count": 45,
   "metadata": {},
   "outputs": [
    {
     "name": "stdout",
     "output_type": "stream",
     "text": [
      "              precision    recall  f1-score   support\n",
      "\n",
      "           0     0.9575    0.9370    0.9471       937\n",
      "           1     0.9544    0.9694    0.9618      1274\n",
      "\n",
      "    accuracy                         0.9557      2211\n",
      "   macro avg     0.9559    0.9532    0.9545      2211\n",
      "weighted avg     0.9557    0.9557    0.9556      2211\n",
      "\n"
     ]
    }
   ],
   "source": [
    "print(classification_report(test_Y, gbc_predict, digits = 4))"
   ]
  },
  {
   "cell_type": "markdown",
   "metadata": {},
   "source": [
    "### Performance Comparison"
   ]
  },
  {
   "cell_type": "code",
   "execution_count": 46,
   "metadata": {},
   "outputs": [
    {
     "data": {
      "text/html": [
       "<div>\n",
       "<style scoped>\n",
       "    .dataframe tbody tr th:only-of-type {\n",
       "        vertical-align: middle;\n",
       "    }\n",
       "\n",
       "    .dataframe tbody tr th {\n",
       "        vertical-align: top;\n",
       "    }\n",
       "\n",
       "    .dataframe thead th {\n",
       "        text-align: right;\n",
       "    }\n",
       "</style>\n",
       "<table border=\"1\" class=\"dataframe\">\n",
       "  <thead>\n",
       "    <tr style=\"text-align: right;\">\n",
       "      <th></th>\n",
       "      <th>Model Name</th>\n",
       "      <th>Accuracy</th>\n",
       "      <th>Precison</th>\n",
       "      <th>Recall</th>\n",
       "      <th>F1-score</th>\n",
       "    </tr>\n",
       "  </thead>\n",
       "  <tbody>\n",
       "    <tr>\n",
       "      <th>0</th>\n",
       "      <td>Logistic Regression</td>\n",
       "      <td>0.9317</td>\n",
       "      <td>0.9568</td>\n",
       "      <td>0.9270</td>\n",
       "      <td>0.9417</td>\n",
       "    </tr>\n",
       "    <tr>\n",
       "      <th>1</th>\n",
       "      <td>K-Nearest Neighbors</td>\n",
       "      <td>0.9525</td>\n",
       "      <td>0.9608</td>\n",
       "      <td>0.9570</td>\n",
       "      <td>0.9589</td>\n",
       "    </tr>\n",
       "    <tr>\n",
       "      <th>2</th>\n",
       "      <td>Decision Tree</td>\n",
       "      <td>0.9652</td>\n",
       "      <td>0.9678</td>\n",
       "      <td>0.9716</td>\n",
       "      <td>0.9697</td>\n",
       "    </tr>\n",
       "    <tr>\n",
       "      <th>3</th>\n",
       "      <td>Random Forest</td>\n",
       "      <td>0.9742</td>\n",
       "      <td>0.9835</td>\n",
       "      <td>0.9721</td>\n",
       "      <td>0.9778</td>\n",
       "    </tr>\n",
       "    <tr>\n",
       "      <th>4</th>\n",
       "      <td>Support Vector</td>\n",
       "      <td>0.9552</td>\n",
       "      <td>0.9686</td>\n",
       "      <td>0.9544</td>\n",
       "      <td>0.9614</td>\n",
       "    </tr>\n",
       "    <tr>\n",
       "      <th>5</th>\n",
       "      <td>Adaboost</td>\n",
       "      <td>0.9249</td>\n",
       "      <td>0.9372</td>\n",
       "      <td>0.9328</td>\n",
       "      <td>0.9350</td>\n",
       "    </tr>\n",
       "    <tr>\n",
       "      <th>6</th>\n",
       "      <td>XGBoost</td>\n",
       "      <td>0.9715</td>\n",
       "      <td>0.9804</td>\n",
       "      <td>0.9705</td>\n",
       "      <td>0.9754</td>\n",
       "    </tr>\n",
       "    <tr>\n",
       "      <th>7</th>\n",
       "      <td>Gradient Boosting</td>\n",
       "      <td>0.9557</td>\n",
       "      <td>0.9694</td>\n",
       "      <td>0.9544</td>\n",
       "      <td>0.9618</td>\n",
       "    </tr>\n",
       "  </tbody>\n",
       "</table>\n",
       "</div>"
      ],
      "text/plain": [
       "            Model Name  Accuracy  Precison  Recall  F1-score\n",
       "0  Logistic Regression    0.9317    0.9568  0.9270    0.9417\n",
       "1  K-Nearest Neighbors    0.9525    0.9608  0.9570    0.9589\n",
       "2        Decision Tree    0.9652    0.9678  0.9716    0.9697\n",
       "3        Random Forest    0.9742    0.9835  0.9721    0.9778\n",
       "4       Support Vector    0.9552    0.9686  0.9544    0.9614\n",
       "5             Adaboost    0.9249    0.9372  0.9328    0.9350\n",
       "6              XGBoost    0.9715    0.9804  0.9705    0.9754\n",
       "7    Gradient Boosting    0.9557    0.9694  0.9544    0.9618"
      ]
     },
     "execution_count": 46,
     "metadata": {},
     "output_type": "execute_result"
    }
   ],
   "source": [
    "performanceList = pd.DataFrame({\n",
    "    'Model Name': modelNames,\n",
    "    'Accuracy': accList,\n",
    "    'Precison': precList,\n",
    "    'Recall': recList,\n",
    "    'F1-score': f1List,\n",
    "})\n",
    "performanceList"
   ]
  },
  {
   "cell_type": "markdown",
   "metadata": {},
   "source": [
    "### Voting Classifier"
   ]
  },
  {
   "cell_type": "markdown",
   "metadata": {},
   "source": [
    "#### Model predicted to have the best performance"
   ]
  },
  {
   "cell_type": "code",
   "execution_count": 47,
   "metadata": {},
   "outputs": [],
   "source": [
    "from sklearn.ensemble import VotingClassifier"
   ]
  },
  {
   "cell_type": "code",
   "execution_count": 48,
   "metadata": {},
   "outputs": [
    {
     "name": "stdout",
     "output_type": "stream",
     "text": [
      "Accuracy: 0.9724106739032112\n",
      "Precision: 0.978806907378336\n",
      "Recall: 0.9734582357533177\n",
      "F1-score: 0.9761252446183953\n"
     ]
    }
   ],
   "source": [
    "vc0 = VotingClassifier(estimators=[\n",
    "        ('m1', dTree), ('m2', rfc), ('m3', xgb)], voting='soft').fit(train_X, train_Y)\n",
    "vc0_predict = vc0.predict(test_X)\n",
    "print('Accuracy: ' + str(accuracy_score(vc0_predict, test_Y)))\n",
    "print('Precision: ' + str(precision_score(vc0_predict, test_Y)))\n",
    "print('Recall: ' + str(recall_score(vc0_predict, test_Y)))\n",
    "print('F1-score: ' + str(f1_score(vc0_predict, test_Y)))"
   ]
  },
  {
   "cell_type": "markdown",
   "metadata": {},
   "source": [
    "#### Best performing models"
   ]
  },
  {
   "cell_type": "code",
   "execution_count": 49,
   "metadata": {},
   "outputs": [],
   "source": [
    "vc1 = VotingClassifier(estimators=[\n",
    "        ('m1', rfc), ('m2', adc)], voting='soft').fit(train_X, train_Y)\n",
    "vc1_predict = vc1.predict(test_X)\n",
    "storeResult('Voting Classifier\\n(RFC + ADB)', \n",
    "            accuracy_score(vc1_predict, test_Y), \n",
    "            precision_score(vc1_predict, test_Y), \n",
    "            recall_score(vc1_predict, test_Y), \n",
    "            f1_score(vc1_predict, test_Y))"
   ]
  },
  {
   "cell_type": "code",
   "execution_count": 50,
   "metadata": {},
   "outputs": [
    {
     "name": "stdout",
     "output_type": "stream",
     "text": [
      "              precision    recall  f1-score   support\n",
      "\n",
      "           0     0.9847    0.9648    0.9747       937\n",
      "           1     0.9745    0.9890    0.9817      1274\n",
      "\n",
      "    accuracy                         0.9787      2211\n",
      "   macro avg     0.9796    0.9769    0.9782      2211\n",
      "weighted avg     0.9788    0.9787    0.9787      2211\n",
      "\n"
     ]
    }
   ],
   "source": [
    "print(classification_report(test_Y, vc1_predict, digits = 4))"
   ]
  },
  {
   "cell_type": "code",
   "execution_count": 51,
   "metadata": {},
   "outputs": [
    {
     "data": {
      "text/plain": [
       "Text(0.5, 1.0, 'Confusion matrix')"
      ]
     },
     "execution_count": 51,
     "metadata": {},
     "output_type": "execute_result"
    },
    {
     "data": {
      "image/png": "[encoded data removed]",
      "text/plain": [
       "<Figure size 432x288 with 2 Axes>"
      ]
     },
     "metadata": {
      "needs_background": "light"
     },
     "output_type": "display_data"
    }
   ],
   "source": [
    "C = confusion_matrix(test_Y, vc1_predict)\n",
    "plt.figure(figsize=(6,4))\n",
    "labels = ['phishing', 'normal']\n",
    "cmap = sns.light_palette(\"blue\")\n",
    "sns.heatmap(C, annot=True, cmap=cmap, fmt=\".3f\", xticklabels=labels, yticklabels=labels)\n",
    "plt.xlabel('Predicted Class')\n",
    "plt.ylabel('Original Class')\n",
    "plt.title(\"Confusion matrix\")"
   ]
  },
  {
   "cell_type": "code",
   "execution_count": 52,
   "metadata": {},
   "outputs": [],
   "source": [
    "vc2 = VotingClassifier(estimators=[\n",
    "        ('m1', logReg), ('m2', knn), ('m3', dTree), ('m4', rfc), ('m5', xgb)], voting='soft').fit(train_X, train_Y)\n",
    "vc2_predict = vc2.predict(test_X)\n",
    "storeResult('Voting Classifier\\n(LR + KNN + DT + RFC + XGB)',\n",
    "            accuracy_score(vc2_predict, test_Y), \n",
    "            precision_score(vc2_predict, test_Y), \n",
    "            recall_score(vc2_predict, test_Y), \n",
    "            f1_score(vc2_predict, test_Y))"
   ]
  },
  {
   "cell_type": "code",
   "execution_count": 53,
   "metadata": {},
   "outputs": [
    {
     "name": "stdout",
     "output_type": "stream",
     "text": [
      "              precision    recall  f1-score   support\n",
      "\n",
      "           0     0.9836    0.9626    0.9730       937\n",
      "           1     0.9730    0.9882    0.9805      1274\n",
      "\n",
      "    accuracy                         0.9774      2211\n",
      "   macro avg     0.9783    0.9754    0.9768      2211\n",
      "weighted avg     0.9775    0.9774    0.9774      2211\n",
      "\n"
     ]
    }
   ],
   "source": [
    "print(classification_report(test_Y, vc2_predict, digits = 4))"
   ]
  },
  {
   "cell_type": "code",
   "execution_count": 54,
   "metadata": {},
   "outputs": [
    {
     "data": {
      "text/plain": [
       "Text(0.5, 1.0, 'Confusion matrix')"
      ]
     },
     "execution_count": 54,
     "metadata": {},
     "output_type": "execute_result"
    },
    {
     "data": {
      "image/png": "[encoded data removed]",
      "text/plain": [
       "<Figure size 432x288 with 2 Axes>"
      ]
     },
     "metadata": {
      "needs_background": "light"
     },
     "output_type": "display_data"
    }
   ],
   "source": [
    "C = confusion_matrix(test_Y, vc2_predict)\n",
    "plt.figure(figsize=(6,4))\n",
    "labels = ['phishing', 'normal']\n",
    "cmap = sns.light_palette(\"blue\")\n",
    "sns.heatmap(C, annot=True, cmap=cmap, fmt=\".3f\", xticklabels=labels, yticklabels=labels)\n",
    "plt.xlabel('Predicted Class')\n",
    "plt.ylabel('Original Class')\n",
    "plt.title(\"Confusion matrix\")"
   ]
  },
  {
   "cell_type": "markdown",
   "metadata": {},
   "source": [
    "### Graph"
   ]
  },
  {
   "cell_type": "code",
   "execution_count": 55,
   "metadata": {},
   "outputs": [
    {
     "data": {
      "image/png": "[encoded data removed]",
      "text/plain": [
       "<Figure size 1584x720 with 1 Axes>"
      ]
     },
     "metadata": {
      "needs_background": "light"
     },
     "output_type": "display_data"
    }
   ],
   "source": [
    "df = pd.DataFrame({\n",
    "    'Model Name': modelNames,\n",
    "    'Accuracy': accList,\n",
    "    'F1-score': f1List,\n",
    "})\n",
    "df.set_index('Model Name', inplace=True)\n",
    "\n",
    "fig, ax = plt.subplots(figsize = (22, 10))\n",
    "df.plot(kind = 'bar', ax = ax)\n",
    "ax.set_xticklabels(df.index, rotation = 0)\n",
    "ax.set_ylim([0.9, 1])\n",
    "ax.set_yticks([0.9, 0.92, 0.94, 0.96, 0.98, 1])\n",
    "ax.set_xlabel('Models', fontsize=20)\n",
    "ax.set_ylabel('Performance', fontsize=20)\n",
    "ax.set_title('Comparative Analysis', fontsize=24)\n",
    "for p in ax.patches:\n",
    "    ax.annotate(str(p.get_height()), (p.get_x() - p.get_width() * 0.14, p.get_height() * 1.001))\n",
    "plt.show()\n",
    "fig.savefig('model performance.png', bbox_inches='tight')"
   ]
  },
  {
   "cell_type": "markdown",
   "metadata": {},
   "source": [
    "### Appendix : Model Combination Test"
   ]
  },
  {
   "cell_type": "code",
   "execution_count": 56,
   "metadata": {},
   "outputs": [],
   "source": [
    "from itertools import combinations"
   ]
  },
  {
   "cell_type": "code",
   "execution_count": 57,
   "metadata": {},
   "outputs": [],
   "source": [
    "models = [logReg, knn, dTree, rfc, svc, adc, xgb, gbc]"
   ]
  },
  {
   "cell_type": "code",
   "execution_count": 58,
   "metadata": {},
   "outputs": [],
   "source": [
    "comb = combinations(models, 5)\n",
    "accBest = 0\n",
    "accIndex = 0\n",
    "f1Best = 0\n",
    "f1Index = 0\n",
    "\n",
    "for i in list(comb):\n",
    "    vc = VotingClassifier(estimators=[\n",
    "        ('m1', i[0]), ('m2', i[1]), ('m3', i[2]), ('m4', i[3]), ('m5', i[4])], voting='soft').fit(train_X, train_Y)\n",
    "    vc_predict = vc.predict(test_X)\n",
    "    acc = accuracy_score(test_Y, vc_predict)\n",
    "    if acc > accBest:\n",
    "        accBest = acc\n",
    "        accIndex = i\n",
    "    f1 = f1_score(test_Y, vc_predict)\n",
    "    if f1 > f1Best:\n",
    "        f1Best = f1\n",
    "        f1Index = i"
   ]
  },
  {
   "cell_type": "code",
   "execution_count": 59,
   "metadata": {},
   "outputs": [
    {
     "name": "stdout",
     "output_type": "stream",
     "text": [
      "0.9773857982813207\n",
      "(LogisticRegression(random_state=1234), KNeighborsClassifier(n_neighbors=3), DecisionTreeClassifier(random_state=1234), RandomForestClassifier(random_state=1234), XGBClassifier(base_score=None, booster=None, callbacks=None,\n",
      "              colsample_bylevel=None, colsample_bynode=None,\n",
      "              colsample_bytree=None, device=None, early_stopping_rounds=None,\n",
      "              enable_categorical=False, eval_metric=None, feature_types=None,\n",
      "              gamma=None, grow_policy=None, importance_type=None,\n",
      "              interaction_constraints=None, learning_rate=None, max_bin=None,\n",
      "              max_cat_threshold=None, max_cat_to_onehot=None,\n",
      "              max_delta_step=None, max_depth=None, max_leaves=None,\n",
      "              min_child_weight=None, missing=nan, monotone_constraints=None,\n",
      "              multi_strategy=None, n_estimators=None, n_jobs=None,\n",
      "              num_parallel_tree=None, random_state=1234, ...))\n",
      "0.9805295950155763\n",
      "(LogisticRegression(random_state=1234), KNeighborsClassifier(n_neighbors=3), DecisionTreeClassifier(random_state=1234), RandomForestClassifier(random_state=1234), XGBClassifier(base_score=None, booster=None, callbacks=None,\n",
      "              colsample_bylevel=None, colsample_bynode=None,\n",
      "              colsample_bytree=None, device=None, early_stopping_rounds=None,\n",
      "              enable_categorical=False, eval_metric=None, feature_types=None,\n",
      "              gamma=None, grow_policy=None, importance_type=None,\n",
      "              interaction_constraints=None, learning_rate=None, max_bin=None,\n",
      "              max_cat_threshold=None, max_cat_to_onehot=None,\n",
      "              max_delta_step=None, max_depth=None, max_leaves=None,\n",
      "              min_child_weight=None, missing=nan, monotone_constraints=None,\n",
      "              multi_strategy=None, n_estimators=None, n_jobs=None,\n",
      "              num_parallel_tree=None, random_state=1234, ...))\n"
     ]
    }
   ],
   "source": [
    "print(accBest)\n",
    "print(accIndex)\n",
    "print(f1Best)\n",
    "print(f1Index)"
   ]
  },
  {
   "cell_type": "code",
   "execution_count": 60,
   "metadata": {},
   "outputs": [],
   "source": [
    "comb = combinations(models, 4)\n",
    "accBest = 0\n",
    "accIndex = 0\n",
    "f1Best = 0\n",
    "f1Index = 0\n",
    "\n",
    "for i in list(comb):\n",
    "    vc = VotingClassifier(estimators=[\n",
    "        ('m1', i[0]), ('m2', i[1]), ('m3', i[2]), ('m4', i[3])], voting='soft').fit(train_X, train_Y)\n",
    "    vc_predict = vc.predict(test_X)\n",
    "    acc = accuracy_score(test_Y, vc_predict)\n",
    "    if acc > accBest:\n",
    "        accBest = acc\n",
    "        accIndex = i\n",
    "    f1 = f1_score(test_Y, vc_predict)\n",
    "    if f1 > f1Best:\n",
    "        f1Best = f1\n",
    "        f1Index = i"
   ]
  },
  {
   "cell_type": "code",
   "execution_count": 61,
   "metadata": {},
   "outputs": [
    {
     "name": "stdout",
     "output_type": "stream",
     "text": [
      "0.9769335142469471\n",
      "(LogisticRegression(random_state=1234), KNeighborsClassifier(n_neighbors=3), DecisionTreeClassifier(random_state=1234), XGBClassifier(base_score=None, booster=None, callbacks=None,\n",
      "              colsample_bylevel=None, colsample_bynode=None,\n",
      "              colsample_bytree=None, device=None, early_stopping_rounds=None,\n",
      "              enable_categorical=False, eval_metric=None, feature_types=None,\n",
      "              gamma=None, grow_policy=None, importance_type=None,\n",
      "              interaction_constraints=None, learning_rate=None, max_bin=None,\n",
      "              max_cat_threshold=None, max_cat_to_onehot=None,\n",
      "              max_delta_step=None, max_depth=None, max_leaves=None,\n",
      "              min_child_weight=None, missing=nan, monotone_constraints=None,\n",
      "              multi_strategy=None, n_estimators=None, n_jobs=None,\n",
      "              num_parallel_tree=None, random_state=1234, ...))\n",
      "0.9801479174776178\n",
      "(LogisticRegression(random_state=1234), DecisionTreeClassifier(random_state=1234), RandomForestClassifier(random_state=1234), AdaBoostClassifier(learning_rate=1, n_estimators=5, random_state=1234))\n"
     ]
    }
   ],
   "source": [
    "print(accBest)\n",
    "print(accIndex)\n",
    "print(f1Best)\n",
    "print(f1Index)"
   ]
  },
  {
   "cell_type": "code",
   "execution_count": 62,
   "metadata": {},
   "outputs": [],
   "source": [
    "comb = combinations(models, 3)\n",
    "accBest = 0\n",
    "accIndex = 0\n",
    "f1Best = 0\n",
    "f1Index = 0\n",
    "\n",
    "for i in list(comb):\n",
    "    vc = VotingClassifier(estimators=[\n",
    "        ('m1', i[0]), ('m2', i[1]), ('m3', i[2])], voting='soft').fit(train_X, train_Y)\n",
    "    vc_predict = vc.predict(test_X)\n",
    "    acc = accuracy_score(test_Y, vc_predict)\n",
    "    if acc > accBest:\n",
    "        accBest = acc\n",
    "        accIndex = i\n",
    "    f1 = f1_score(test_Y, vc_predict)\n",
    "    if f1 > f1Best:\n",
    "        f1Best = f1\n",
    "        f1Index = i"
   ]
  },
  {
   "cell_type": "code",
   "execution_count": 63,
   "metadata": {},
   "outputs": [
    {
     "name": "stdout",
     "output_type": "stream",
     "text": [
      "0.9764812302125735\n",
      "(LogisticRegression(random_state=1234), DecisionTreeClassifier(random_state=1234), RandomForestClassifier(random_state=1234))\n",
      "0.9797665369649805\n",
      "(LogisticRegression(random_state=1234), DecisionTreeClassifier(random_state=1234), RandomForestClassifier(random_state=1234))\n"
     ]
    }
   ],
   "source": [
    "print(accBest)\n",
    "print(accIndex)\n",
    "print(f1Best)\n",
    "print(f1Index)"
   ]
  },
  {
   "cell_type": "code",
   "execution_count": 64,
   "metadata": {},
   "outputs": [],
   "source": [
    "comb = combinations(models, 2)\n",
    "accBest = 0\n",
    "accIndex = 0\n",
    "f1Best = 0\n",
    "f1Index = 0\n",
    "\n",
    "for i in list(comb):\n",
    "    vc = VotingClassifier(estimators=[\n",
    "        ('m1', i[0]), ('m2', i[1])], voting='soft').fit(train_X, train_Y)\n",
    "    vc_predict = vc.predict(test_X)\n",
    "    acc = accuracy_score(test_Y, vc_predict)\n",
    "    if acc > accBest:\n",
    "        accBest = acc\n",
    "        accIndex = i\n",
    "    f1 = f1_score(test_Y, vc_predict)\n",
    "    if f1 > f1Best:\n",
    "        f1Best = f1\n",
    "        f1Index = i"
   ]
  },
  {
   "cell_type": "code",
   "execution_count": 65,
   "metadata": {},
   "outputs": [
    {
     "name": "stdout",
     "output_type": "stream",
     "text": [
      "0.9787426503844414\n",
      "(RandomForestClassifier(random_state=1234), AdaBoostClassifier(learning_rate=1, n_estimators=5, random_state=1234))\n",
      "0.9816906895208415\n",
      "(RandomForestClassifier(random_state=1234), AdaBoostClassifier(learning_rate=1, n_estimators=5, random_state=1234))\n"
     ]
    }
   ],
   "source": [
    "print(accBest)\n",
    "print(accIndex)\n",
    "print(f1Best)\n",
    "print(f1Index)"
   ]
  },
  {
   "cell_type": "code",
   "execution_count": null,
   "metadata": {},
   "outputs": [],
   "source": []
  }
 ],
 "metadata": {
  "kernelspec": {
   "display_name": "Python 3 (ipykernel)",
   "language": "python",
   "name": "python3"
  },
  "language_info": {
   "codemirror_mode": {
    "name": "ipython",
    "version": 3
   },
   "file_extension": ".py",
   "mimetype": "text/x-python",
   "name": "python",
   "nbconvert_exporter": "python",
   "pygments_lexer": "ipython3",
   "version": "3.9.7"
  }
 },
 "nbformat": 4,
 "nbformat_minor": 4
}
